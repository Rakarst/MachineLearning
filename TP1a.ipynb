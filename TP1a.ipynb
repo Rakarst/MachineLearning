{
 "cells": [
  {
   "cell_type": "markdown",
   "metadata": {},
   "source": [
    "# Assignment 1 - Decision Trees and Clustering Techniques\n",
    "\n",
    "## *Aprendizagem Computacional - MEI | Computação Neuronal e Sistemas Difusos - MIEB*\n",
    "\n",
    "### by Catarina Silva and Marco Simões\n",
    "\n",
    "_\n",
    "\n",
    "This assignment will assess the students knowledge on the following Machine Learning topics:\n",
    "- Decision Trees\n",
    "- Clustering Techniques\n",
    "\n",
    "The assignment is split into two sub-assignments: 1-a) Decision Trees (first week) and 1-b) Clustering Techniques (second week).\n",
    "\n",
    "Students should implement their solutions and answering the questions directly in the notebooks, and submit both files together in Inforestudante before the deadline: *06/10/2021*\n",
    "\n",
    "## Conditions: \n",
    "- *Groups:* two elements of the same PL class\n",
    "- *Duration:* 2 weeks\n",
    "- *Workload:* 8h per student\n",
    " \n"
   ]
  },
  {
   "cell_type": "markdown",
   "metadata": {},
   "source": [
    "# Assignment 1 - a) Decision Trees\n",
    "\n",
    "Consider the depression dataset, from Agresti, A. (2019). _An introduction to categorical data analysis (2nd ed.). John Wiley & Sons._ This dataset is composed by evaluations of 335 patients during 3 phase treatment. We want to learn a decision tree that, given the attributes A - Diagnosis Severity (0: Mild, 1: Severe), B - Treatment Type (0: Standard, 1: New drug) and C - Follow Up Time (0: 1 week, 1: 2 weeks, 2: 4 weeks), predicts D - Depression Outcome (0: Normal, 1: Abnormal).\n",
    "\n",
    "\n"
   ]
  },
  {
   "cell_type": "code",
   "execution_count": 1,
   "metadata": {},
   "outputs": [],
   "source": [
    "import pandas as pd\n",
    "import numpy as np\n",
    "... # TODO add extra imports if needed\n",
    "\n",
    "\n",
    "# load data\n",
    "data = pd.read_csv('depression.csv')\n"
   ]
  },
  {
   "cell_type": "markdown",
   "metadata": {},
   "source": [
    "***\n",
    "### Ex. 1\n",
    "Create a function `attr_probs( data, attr )` that, given the dataset (`data`) and a attribute id (`attr`), computes the percentage of cases with Abnormal treatment outcome (D) for each attribute *value*. The function should return a dictionary with the different attribute values as keys and the correspondent percentages as values. Example: `attr_probs( data, 'A')` -> returns `{0: 0.30, 1: 0.23}`"
   ]
  },
  {
   "cell_type": "code",
   "execution_count": 2,
   "metadata": {},
   "outputs": [],
   "source": [
    "OUTCOME = 'D'\n",
    "\n",
    "def attr_probs( data, attr):\n",
    "\n",
    "    probs = {}\n",
    "    unique_values = data[attr].unique()\n",
    "    \n",
    "    for val in unique_values:\n",
    "        selection = data.loc[data[attr] == int(val)]\n",
    "        probs[val] = round(selection[OUTCOME].sum() / selection.shape[0],2)\n",
    "\n",
    "    return probs"
   ]
  },
  {
   "cell_type": "code",
   "execution_count": 3,
   "metadata": {},
   "outputs": [
    {
     "data": {
      "text/plain": [
       "{0: 0.67, 1: 0.41}"
      ]
     },
     "execution_count": 3,
     "metadata": {},
     "output_type": "execute_result"
    }
   ],
   "source": [
    "attr_probs( data, 'A')"
   ]
  },
  {
   "cell_type": "markdown",
   "metadata": {
    "tags": []
   },
   "source": [
    "***\n",
    "### Ex. 2\n",
    "Create a function `entropy( probs )` that, given a list probability values, returns the correspondent **entropy** value."
   ]
  },
  {
   "cell_type": "code",
   "execution_count": 4,
   "metadata": {},
   "outputs": [],
   "source": [
    "def entropy( probs ):\n",
    "    entropy = 0\n",
    "    for i in probs:\n",
    "        if(i!=0):\n",
    "            entropy+= -i*np.log2(i)\n",
    "    return entropy"
   ]
  },
  {
   "cell_type": "code",
   "execution_count": 5,
   "metadata": {},
   "outputs": [
    {
     "name": "stdout",
     "output_type": "stream",
     "text": [
      "1.5\n"
     ]
    }
   ],
   "source": [
    "# example\n",
    "print(entropy([2/8, 0/8, 4/8, 2/8])) # should print 1.5"
   ]
  },
  {
   "cell_type": "markdown",
   "metadata": {},
   "source": [
    "***\n",
    "### Ex. 3 \n",
    "Create a function `gain( data, attr )` to compute the gain of an attribute. Make use of the functions developed in the previous exercises."
   ]
  },
  {
   "cell_type": "code",
   "execution_count": 6,
   "metadata": {},
   "outputs": [],
   "source": [
    "def gain( data, attr ):\n",
    "    \n",
    "    number_of_elements = data.shape[0]\n",
    "    \n",
    "    # Gain(S,a) = Entropy(S) - |S_a0|/|S|*Entropy(S_a0) - |S_a1|/|S|*Entropy(S_a1) - .... - |S_an|/|S|*Entropy(S_an)\n",
    "    # where S_a0 = column \"a\" value 0, S_a1 = column \"a\" value 1 and so on...\n",
    "    \n",
    "    # |S_an|/|S|\n",
    "    def proportion_of_attr_rows(data,attr,val):\n",
    "        selection = data.loc[data[attr] == int(val)].shape[0]\n",
    "        return selection / number_of_elements\n",
    "    \n",
    "    #Entropy of the whole dataset, where target variable is in column \"D\"\n",
    "    def entropy_S(data):\n",
    "        number_of_vals = (data.groupby('D').count()).iloc[:, 0]\n",
    "        return entropy([row[1] / number_of_elements for row in number_of_vals.iteritems()])\n",
    "\n",
    "    probs = attr_probs(data, attr)\n",
    "    \n",
    "    #Entropy(S)\n",
    "    result = entropy_S(data)\n",
    "    \n",
    "    # - |S_a0|/|S|*Entropy(S_a0) - |S_a1|/|S|*Entropy(S_a1) - .... - |S_an|/|S|*Entropy(S_an)\n",
    "    for (k,v) in probs.items(): \n",
    "        result -= proportion_of_attr_rows(data,attr,k) * entropy([v, round(1-v,2)])\n",
    "    return result"
   ]
  },
  {
   "cell_type": "code",
   "execution_count": 7,
   "metadata": {},
   "outputs": [
    {
     "name": "stdout",
     "output_type": "stream",
     "text": [
      "0.04919697538083989\n"
     ]
    }
   ],
   "source": [
    "attr = 'A'\n",
    "print(gain(data, attr))"
   ]
  },
  {
   "cell_type": "markdown",
   "metadata": {},
   "source": [
    "***\n",
    "### Ex. 4 \n",
    "\n",
    "Run the following code to compute the gain for the different attributes. In what does those results influence the design of the decision tree?"
   ]
  },
  {
   "cell_type": "code",
   "execution_count": 8,
   "metadata": {},
   "outputs": [
    {
     "name": "stdout",
     "output_type": "stream",
     "text": [
      "Gain A: 0.05\n",
      "Gain B: 0.02\n",
      "Gain C: 0.07\n"
     ]
    }
   ],
   "source": [
    "ATTRS = ['A', 'B', 'C']\n",
    "for attr in ATTRS:\n",
    "    print('Gain {attr}: {gain:.2f}'.format(attr=attr, gain=gain(data, attr)))"
   ]
  },
  {
   "cell_type": "markdown",
   "metadata": {},
   "source": [
    "\n",
    "**Answer:**\n",
    "\n",
    "`Those results influence the design of the decision tree in fact the attribute with the biggest gain will be at the root of the tree. In this case attribute 'C' will be at the root of the decision tree.`"
   ]
  },
  {
   "cell_type": "markdown",
   "metadata": {},
   "source": [
    "***\n",
    "### Ex. 5\n",
    "\n",
    "Split the dataset into two sets (train set and test set), assigning randomly $70\\%$ of the cases to the train set and the remaining $30\\%$ to the test set. Use the `train_test_split` method from the `sklearn.model_selection` module, specifying the `random_state` with a value of $7$ for reproducibility purposes.\n",
    "\n",
    "Train a `DecisionTreeClassifier` (from the `sklearn.tree` module) using the training data. Enforce the use of the `entropy` criterion instead of the `gini` criterion. \n",
    "\n",
    "Resort to the function `export_text` from the `sklearn.tree` module to visualize the structure of the resulting tree. Are the results of **Ex. 4** congruent with the tree obtained here? Justify.\n",
    "\n"
   ]
  },
  {
   "cell_type": "code",
   "execution_count": 9,
   "metadata": {},
   "outputs": [],
   "source": [
    "from sklearn.model_selection import train_test_split\n",
    "\n",
    "y = data.D\n",
    "data.drop(['D'], axis=1, inplace=True)\n",
    "\n",
    "X_train, X_test, y_train, y_test = train_test_split(data, y, train_size=0.7, test_size=0.3, random_state=7)"
   ]
  },
  {
   "cell_type": "code",
   "execution_count": 10,
   "metadata": {},
   "outputs": [
    {
     "data": {
      "text/plain": [
       "DecisionTreeClassifier(criterion='entropy')"
      ]
     },
     "execution_count": 10,
     "metadata": {},
     "output_type": "execute_result"
    }
   ],
   "source": [
    "from sklearn.tree import DecisionTreeClassifier\n",
    "\n",
    "model = DecisionTreeClassifier(criterion='entropy')\n",
    "model.fit(X=X_train,y=y_train)\n"
   ]
  },
  {
   "cell_type": "code",
   "execution_count": 11,
   "metadata": {},
   "outputs": [
    {
     "name": "stdout",
     "output_type": "stream",
     "text": [
      "|--- C <= 1.50\n",
      "|   |--- A <= 0.50\n",
      "|   |   |--- B <= 0.50\n",
      "|   |   |   |--- C <= 0.50\n",
      "|   |   |   |   |--- class: 1\n",
      "|   |   |   |--- C >  0.50\n",
      "|   |   |   |   |--- class: 1\n",
      "|   |   |--- B >  0.50\n",
      "|   |   |   |--- C <= 0.50\n",
      "|   |   |   |   |--- class: 1\n",
      "|   |   |   |--- C >  0.50\n",
      "|   |   |   |   |--- class: 1\n",
      "|   |--- A >  0.50\n",
      "|   |   |--- C <= 0.50\n",
      "|   |   |   |--- B <= 0.50\n",
      "|   |   |   |   |--- class: 0\n",
      "|   |   |   |--- B >  0.50\n",
      "|   |   |   |   |--- class: 0\n",
      "|   |   |--- C >  0.50\n",
      "|   |   |   |--- B <= 0.50\n",
      "|   |   |   |   |--- class: 0\n",
      "|   |   |   |--- B >  0.50\n",
      "|   |   |   |   |--- class: 1\n",
      "|--- C >  1.50\n",
      "|   |--- B <= 0.50\n",
      "|   |   |--- A <= 0.50\n",
      "|   |   |   |--- class: 1\n",
      "|   |   |--- A >  0.50\n",
      "|   |   |   |--- class: 0\n",
      "|   |--- B >  0.50\n",
      "|   |   |--- A <= 0.50\n",
      "|   |   |   |--- class: 1\n",
      "|   |   |--- A >  0.50\n",
      "|   |   |   |--- class: 1\n",
      "\n"
     ]
    }
   ],
   "source": [
    "from sklearn.tree import export_text\n",
    "\n",
    "tree_text = export_text(model, feature_names=list(X_train.columns))\n",
    "print(tree_text)"
   ]
  },
  {
   "cell_type": "markdown",
   "metadata": {},
   "source": [
    "\n",
    "**Answer:**\n",
    "\n",
    "`The result are congruent with the tree obtained because the attribute 'C' is the root of our decision tree.`"
   ]
  },
  {
   "cell_type": "markdown",
   "metadata": {},
   "source": [
    "***\n",
    "### Ex 6\n",
    "\n",
    "Looking for the structure of the tree printed, evaluate the following cases (by hand) and provide the outcome class for each case, as well as the path from the root to the leaf (meaning, provide the conditions it evaluated as true to reach that class).\n",
    "\n",
    "**Cases:**<p>\n",
    "c1 = (A=1, B=0, C=2)<p>\n",
    "c2 = (A=0, B=0, C=0)<p>\n",
    "c3 = (A=0, B=0, C=1)<p>\n",
    "c4 = (A=1, B=1, C=0)<p>\n",
    "\n",
    "\n",
    "**Example:**<p>\n",
    "case: cx = (A=1, B=1, C=1)<p>\n",
    "path: (C <= 1.5) --> (A > 0.5) --> (C > 0.5) --> (B > 0.5) --> class 1<p>"
   ]
  },
  {
   "cell_type": "markdown",
   "metadata": {},
   "source": [
    "\n",
    "**Answer:**\n",
    "\n",
    "case: c1 = (A=1, B=0, C=2)<p>\n",
    "path: `(C>1.5)-->(B<0.5)-->(A>0.5)-->class 0`<p>\n",
    "_\n",
    "\n",
    "case: c2 = (A=0, B=0, C=0)<p>\n",
    "path: `(C<=1.5)-->(A<=05)-->(B<=0.5)-->(C<=0.5)-->class 1`<p>\n",
    "_\n",
    "\n",
    "case: c3 = (A=0, B=0, C=1)<p>\n",
    "path: `(C<=1.5)-->(A<=0.5)-->(B<=0.5)--(C>0.5)-->class 1`<p>\n",
    "_\n",
    "\n",
    "case: c4 = (A=1, B=1, C=0)<p>\n",
    "path: `(C<=1.5)-->(A>0.5)-->(C<=0.5)-->(B>0.5)-->class 1`<p>\n",
    "\n"
   ]
  },
  {
   "cell_type": "markdown",
   "metadata": {},
   "source": [
    "***\n",
    "### Ex. 7\n",
    "\n",
    "Apply the decision tree trained in the previous exercise to the test data. Compare the predicted labels to the true labels, generating a confusion matrix (you can use the `confusion_matrix` function of the `sklearn.metrics` module for that). Report the **percentage** of `True Positives, True Negatives, False Positives and False Negatives`, as well as the metrics `accuracy, precision, recall and f1-score`.\n"
   ]
  },
  {
   "cell_type": "code",
   "execution_count": 12,
   "metadata": {},
   "outputs": [],
   "source": [
    "y_pred = model.predict(X_test)"
   ]
  },
  {
   "cell_type": "code",
   "execution_count": 13,
   "metadata": {},
   "outputs": [
    {
     "name": "stdout",
     "output_type": "stream",
     "text": [
      "[[ 95  59]\n",
      " [ 37 115]]\n",
      "True Positives: 95\n",
      "False Negatives: 59\n",
      "False Positives: 37\n",
      "True Negatives: 115\n"
     ]
    }
   ],
   "source": [
    "from sklearn.metrics import confusion_matrix\n",
    "\n",
    "conf_matrix = confusion_matrix(y_test, y_pred)\n",
    "\n",
    "print(conf_matrix)\n",
    "\n",
    "print('True Positives:',conf_matrix[0][0])\n",
    "print('False Negatives:',conf_matrix[0][1])\n",
    "print('False Positives:',conf_matrix[1][0])\n",
    "print('True Negatives:',conf_matrix[1][1])"
   ]
  },
  {
   "cell_type": "code",
   "execution_count": 14,
   "metadata": {},
   "outputs": [
    {
     "name": "stdout",
     "output_type": "stream",
     "text": [
      "              precision    recall  f1-score   support\n",
      "\n",
      "           0       0.72      0.62      0.66       154\n",
      "           1       0.66      0.76      0.71       152\n",
      "\n",
      "    accuracy                           0.69       306\n",
      "   macro avg       0.69      0.69      0.68       306\n",
      "weighted avg       0.69      0.69      0.68       306\n",
      "\n"
     ]
    }
   ],
   "source": [
    "from sklearn.metrics import classification_report\n",
    "\n",
    "print(classification_report(y_test, y_pred))\n"
   ]
  },
  {
   "cell_type": "markdown",
   "metadata": {},
   "source": [
    "***\n",
    "### Ex. 8\n",
    "Repeat the process of spliting the data, training the classifier and testing the classifier 100 times (use the values from 0 to 99 as `random_state` for the `train_test_split`function). Plot the accuracy across the 100 repetitions, reporting also its mean value and standard deviation.\n"
   ]
  },
  {
   "cell_type": "code",
   "execution_count": 15,
   "metadata": {},
   "outputs": [],
   "source": [
    "import matplotlib.pyplot as plt"
   ]
  },
  {
   "cell_type": "code",
   "execution_count": 16,
   "metadata": {},
   "outputs": [],
   "source": [
    "def calc_accuracy(conf_matrix):\n",
    "    return (conf_matrix[0][0] + conf_matrix[1][1]) / conf_matrix.sum()"
   ]
  },
  {
   "cell_type": "code",
   "execution_count": 17,
   "metadata": {},
   "outputs": [
    {
     "data": {
      "text/plain": [
       "[<matplotlib.lines.Line2D at 0x14a5a9a30>]"
      ]
     },
     "execution_count": 17,
     "metadata": {},
     "output_type": "execute_result"
    },
    {
     "data": {
      "image/png": "[encoded data removed]",
      "text/plain": [
       "<Figure size 432x288 with 1 Axes>"
      ]
     },
     "metadata": {
      "needs_background": "light"
     },
     "output_type": "display_data"
    }
   ],
   "source": [
    "data = pd.read_csv('depression.csv')\n",
    "\n",
    "y = data.D\n",
    "data.drop(['D'], axis=1, inplace=True)\n",
    "\n",
    "random_states = [i for i in range(100)]\n",
    "accuracies = []\n",
    "for i in random_states:\n",
    "    X_train, X_test, y_train, y_test = train_test_split(data, y, train_size=0.7, test_size=0.3, random_state=i)\n",
    "    model = DecisionTreeClassifier(criterion='entropy')\n",
    "    model.fit(X=X_train,y=y_train)\n",
    "    y_pred = model.predict(X_test)\n",
    "    conf_matrix = confusion_matrix(y_test, y_pred)\n",
    "    accuracies.append(calc_accuracy(conf_matrix))\n",
    "\n",
    "plt.plot(random_states,accuracies)"
   ]
  },
  {
   "cell_type": "code",
   "execution_count": 18,
   "metadata": {},
   "outputs": [
    {
     "name": "stdout",
     "output_type": "stream",
     "text": [
      "Mean: 0.6655882352941177\n"
     ]
    }
   ],
   "source": [
    "print('Mean:',np.mean(accuracies))"
   ]
  },
  {
   "cell_type": "code",
   "execution_count": 19,
   "metadata": {},
   "outputs": [
    {
     "name": "stdout",
     "output_type": "stream",
     "text": [
      "Standard Deviation: 0.02164797742833218\n"
     ]
    }
   ],
   "source": [
    "print('Standard Deviation:',np.std(accuracies))"
   ]
  },
  {
   "cell_type": "markdown",
   "metadata": {},
   "source": [
    "\n",
    "\n"
   ]
  }
 ],
 "metadata": {
  "interpreter": {
   "hash": "aee8b7b246df8f9039afb4144a1f6fd8d2ca17a180786b69acc140d282b71a49"
  },
  "kernelspec": {
   "display_name": "Python 3 (ipykernel)",
   "language": "python",
   "name": "python3"
  },
  "language_info": {
   "codemirror_mode": {
    "name": "ipython",
    "version": 3
   },
   "file_extension": ".py",
   "mimetype": "text/x-python",
   "name": "python",
   "nbconvert_exporter": "python",
   "pygments_lexer": "ipython3",
   "version": "3.9.0"
  }
 },
 "nbformat": 4,
 "nbformat_minor": 4
}
